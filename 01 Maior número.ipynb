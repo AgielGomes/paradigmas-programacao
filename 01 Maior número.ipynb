{
  "nbformat": 4,
  "nbformat_minor": 0,
  "metadata": {
    "colab": {
      "name": "Untitled0.ipynb",
      "provenance": [],
      "authorship_tag": "ABX9TyPGnLzmfUjRaBpTqJxfv8bF",
      "include_colab_link": true
    },
    "kernelspec": {
      "name": "python3",
      "display_name": "Python 3"
    },
    "language_info": {
      "name": "python"
    }
  },
  "cells": [
    {
      "cell_type": "markdown",
      "metadata": {
        "id": "view-in-github",
        "colab_type": "text"
      },
      "source": [
        "<a href=\"https://colab.research.google.com/github/AgielGomes/paradigmas-programacao/blob/main/01%20Maior%20n%C3%BAmero.ipynb\" target=\"_parent\"><img src=\"https://colab.research.google.com/assets/colab-badge.svg\" alt=\"Open In Colab\"/></a>"
      ]
    },
    {
      "cell_type": "code",
      "execution_count": 8,
      "metadata": {
        "colab": {
          "base_uri": "https://localhost:8080/"
        },
        "id": "-MxfFw1jU0jb",
        "outputId": "3c47effd-4e8b-4bb8-8206-68846d1007f2"
      },
      "outputs": [
        {
          "name": "stdout",
          "output_type": "stream",
          "text": [
            "Digite o primeiro número: 5\n",
            "Digite o segundo número: 4\n",
            "Digite o terceiro número: 3\n"
          ]
        }
      ],
      "source": [
        "numero1 = float(input(\"Digite o primeiro número: \"))\n",
        "numero2 = float(input(\"Digite o segundo número: \"))\n",
        "numero3 = float(input(\"Digite o terceiro número: \"))"
      ]
    },
    {
      "cell_type": "code",
      "source": [
        "#Instruções e Saída de Dados\n",
        "if (numero1 > numero2) and (numero1 > numero3):\n",
        "  print(f\"{numero1} foi o maior número digitado.\")\n",
        "elif (numero2 > numero1) and (numero2 > numero3):\n",
        "  print(f\"{numero2} foi o maior número digitado.\")\n",
        "else:\n",
        "  print(f\"{numero3} foi o maior número digitado.\")"
      ],
      "metadata": {
        "colab": {
          "base_uri": "https://localhost:8080/"
        },
        "id": "YWh9LEogW5xY",
        "outputId": "0ccf48b5-e290-4407-ab0f-0c567f23b09b"
      },
      "execution_count": 10,
      "outputs": [
        {
          "output_type": "stream",
          "name": "stdout",
          "text": [
            "5.0 foi o maior número digitado.\n"
          ]
        }
      ]
    },
    {
      "cell_type": "code",
      "source": [
        "#Código Otimizado\n",
        "print (f\"{max(numero1, numero2, numero3)} foi o maior número digitado\")"
      ],
      "metadata": {
        "colab": {
          "base_uri": "https://localhost:8080/"
        },
        "id": "iLwxGmwEYxd4",
        "outputId": "39fc944e-5174-4b1c-e195-538aa7132e96"
      },
      "execution_count": 9,
      "outputs": [
        {
          "output_type": "stream",
          "name": "stdout",
          "text": [
            "5.0 foi o maior número digitado\n"
          ]
        }
      ]
    },
    {
      "cell_type": "code",
      "source": [
        ""
      ],
      "metadata": {
        "id": "cchBAErzYzMp"
      },
      "execution_count": null,
      "outputs": []
    }
  ]
}